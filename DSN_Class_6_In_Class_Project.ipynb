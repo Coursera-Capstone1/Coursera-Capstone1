{
  "nbformat": 4,
  "nbformat_minor": 0,
  "metadata": {
    "colab": {
      "name": "Copy of Copy of Class 6: In Class Project.ipynb",
      "provenance": [],
      "include_colab_link": true
    },
    "kernelspec": {
      "name": "python3",
      "display_name": "Python 3"
    },
    "language_info": {
      "name": "python"
    }
  },
  "cells": [
    {
      "cell_type": "markdown",
      "metadata": {
        "id": "view-in-github",
        "colab_type": "text"
      },
      "source": [
        "<a href=\"https://colab.research.google.com/github/Coursera-Capstone1/Coursera-Capstone1/blob/main/DSN_Class_6_In_Class_Project.ipynb\" target=\"_parent\"><img src=\"https://colab.research.google.com/assets/colab-badge.svg\" alt=\"Open In Colab\"/></a>"
      ]
    },
    {
      "cell_type": "markdown",
      "source": [
        "Be the hero of the day by predicting the survival of Titanic passengers\n",
        "\n",
        "Competition Description\n",
        "\n",
        "The sinking of the RMS Titanic is one of the most infamous shipwrecks in history. On April 15, 1912, during her maiden voyage, the Titanic sank after colliding with an iceberg, killing 1502 out of 2224 passengers and crew. This sensational tragedy shocked the international community and led to better safety regulations for ships.\n",
        "\n",
        "One of the reasons that the shipwreck led to such loss of life was that there were not enough lifeboats for the passengers and crew. Although there was some element of luck involved in surviving the sinking, some groups of people were more likely to survive than others, such as women, children, and the upper-class.\n",
        "\n",
        "In this challenge, we ask you to complete the analysis of what sorts of people were likely to survive. \n",
        "\n",
        "**In particular, we ask you to apply the tools of machine learning to predict which passengers survived the tragedy.**\n",
        "GoodLuck!!!"
      ],
      "metadata": {
        "id": "g7kxp3LOM9XZ"
      }
    },
    {
      "cell_type": "markdown",
      "source": [
        "![image.png](data:image/png;base64,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)"
      ],
      "metadata": {
        "id": "lf7rcsBlWLS9"
      }
    },
    {
      "cell_type": "markdown",
      "source": [
        "#### Previous notebooks used in this class can be accessed below:\n",
        "\n",
        "1. [Linear Regression](https://colab.research.google.com/drive/1FFhkwU6gplsnlhoqkCzkkSD5fF3nsFc0?usp=sharing)\n",
        "2. [Classification](https://bit.ly/AIECOLAB2) "
      ],
      "metadata": {
        "id": "Mlh64lQgXI8Y"
      }
    },
    {
      "cell_type": "markdown",
      "source": [
        "### More Resources:\n",
        "1. Exploratory Data Analysis, Feature Engineering and Modelling using Supermarket Sales Data.\n",
        "Part 1. By Rising Odegua https://towardsdatascience.com/exploratory-data-analysis-featureengineering-and-modelling-using-supermarket-sales-data-part-1-228140f89298\n",
        "2. A Practical Guide to Feature Engineering in Python By Rising Odegua https://heartbeat.fritz.ai/apractical-guide-to-feature-engineering-in-python-8326e40747c8\n",
        "3. train_test_split Vs StratifiedShuffleSplit - Brain John By Brain John\n",
        "https://medium.com/@411.codebrain/train-test-split-vs-stratifiedshufflesplit-374c3dbdcc36\n",
        "4. Introduction to Exploratory Data Analysis (EDA) - Code Heroku https://medium.com/codeheroku/introduction-to-exploratory-data-analysis-eda-c0257f888676\n",
        "5. Data Preprocessing for Machine Learning - Data-Driven Investor\n",
        "https://medium.com/datadriveninvestor/data-preprocessing-for-machine-learning-188e9eef1d2c\n",
        "6. Processing Data To Improve Machine Learning Models Accuracy\n",
        "https://medium.com/fintechexplained/processing-data-to-improve-machine-learning-modelsaccuracy-de17c655dc8e\n",
        "7. How To Develop a Machine Learning Model From Scratch\n",
        "https://towardsdatascience.com/machine-learning-general-process-8f1b510bd8af\n",
        "8. All Machine Learning Models Explained in 6 Minutes\n",
        "https://towardsdatascience.com/all-machine-learning-models-explained-in-6-minutes-9fe30ff6776a\n",
        "9. 7 Ways to Improve your Predictive Models - Rants on Machine Learning\n",
        "https://medium.com/rants-on-machine-learning/7-ways-to-improve-your-predictive-models-753705eba3d6\n",
        "10. 3 ways to improve your Machine Learning results without more data https://towardsdatascience.com/3-ways-to-improve-your-machine-learning-results-without-more-data-f2f0fe78976e"
      ],
      "metadata": {
        "id": "K0WavPM-Y0Mv"
      }
    },
    {
      "cell_type": "code",
      "source": [
        "# For running pandas_profiling\n",
        "! pip install pandas==0.25.3\n",
        "! pip install numpy==1.16.5\n",
        "!pip install matplotlib-venn\n",
        "!apt-get -qq install -y libfluidsynth1\n",
        "!apt-get -qq install -y libarchive-dev && pip install -U libarchive\n",
        "!apt-get -qq install -y graphviz && pip install pydot\n",
        "!pip install cartopy\n",
        "import pydot\n",
        "import cartopy\n",
        "import libarchive\n",
        "import numpy as np\n",
        "import pandas as pd\n",
        "import matplotlib.pyplot as plt\n",
        "%matplotlib inline\n",
        "import seaborn as sns\n",
        "from pandas_profiling import ProfileReport"
      ],
      "metadata": {
        "id": "hOzafsWcqjSK",
        "outputId": "46c257be-48ad-4536-a060-105a16195853",
        "colab": {
          "base_uri": "https://localhost:8080/",
          "height": 1000
        }
      },
      "execution_count": 1,
      "outputs": [
        {
          "output_type": "stream",
          "name": "stdout",
          "text": [
            "Collecting pandas==0.25.3\n",
            "  Downloading pandas-0.25.3-cp37-cp37m-manylinux1_x86_64.whl (10.4 MB)\n",
            "\u001b[K     |████████████████████████████████| 10.4 MB 5.3 MB/s \n",
            "\u001b[?25hRequirement already satisfied: numpy>=1.13.3 in /usr/local/lib/python3.7/dist-packages (from pandas==0.25.3) (1.21.5)\n",
            "Requirement already satisfied: pytz>=2017.2 in /usr/local/lib/python3.7/dist-packages (from pandas==0.25.3) (2018.9)\n",
            "Requirement already satisfied: python-dateutil>=2.6.1 in /usr/local/lib/python3.7/dist-packages (from pandas==0.25.3) (2.8.2)\n",
            "Requirement already satisfied: six>=1.5 in /usr/local/lib/python3.7/dist-packages (from python-dateutil>=2.6.1->pandas==0.25.3) (1.15.0)\n",
            "Installing collected packages: pandas\n",
            "  Attempting uninstall: pandas\n",
            "    Found existing installation: pandas 1.3.5\n",
            "    Uninstalling pandas-1.3.5:\n",
            "      Successfully uninstalled pandas-1.3.5\n",
            "\u001b[31mERROR: pip's dependency resolver does not currently take into account all the packages that are installed. This behaviour is the source of the following dependency conflicts.\n",
            "xarray 0.18.2 requires pandas>=1.0, but you have pandas 0.25.3 which is incompatible.\n",
            "google-colab 1.0.0 requires pandas>=1.1.0; python_version >= \"3.0\", but you have pandas 0.25.3 which is incompatible.\n",
            "fbprophet 0.7.1 requires pandas>=1.0.4, but you have pandas 0.25.3 which is incompatible.\u001b[0m\n",
            "Successfully installed pandas-0.25.3\n",
            "Collecting numpy==1.16.5\n",
            "  Downloading numpy-1.16.5-cp37-cp37m-manylinux1_x86_64.whl (17.3 MB)\n",
            "\u001b[K     |████████████████████████████████| 17.3 MB 229 kB/s \n",
            "\u001b[?25hInstalling collected packages: numpy\n",
            "  Attempting uninstall: numpy\n",
            "    Found existing installation: numpy 1.21.5\n",
            "    Uninstalling numpy-1.21.5:\n",
            "      Successfully uninstalled numpy-1.21.5\n",
            "\u001b[31mERROR: pip's dependency resolver does not currently take into account all the packages that are installed. This behaviour is the source of the following dependency conflicts.\n",
            "tensorflow 2.8.0 requires tf-estimator-nightly==2.8.0.dev2021122109, which is not installed.\n",
            "xarray 0.18.2 requires numpy>=1.17, but you have numpy 1.16.5 which is incompatible.\n",
            "xarray 0.18.2 requires pandas>=1.0, but you have pandas 0.25.3 which is incompatible.\n",
            "tensorflow 2.8.0 requires numpy>=1.20, but you have numpy 1.16.5 which is incompatible.\n",
            "tables 3.7.0 requires numpy>=1.19.0, but you have numpy 1.16.5 which is incompatible.\n",
            "pywavelets 1.3.0 requires numpy>=1.17.3, but you have numpy 1.16.5 which is incompatible.\n",
            "pyerfa 2.0.0.1 requires numpy>=1.17, but you have numpy 1.16.5 which is incompatible.\n",
            "pyarrow 6.0.1 requires numpy>=1.16.6, but you have numpy 1.16.5 which is incompatible.\n",
            "kapre 0.3.7 requires numpy>=1.18.5, but you have numpy 1.16.5 which is incompatible.\n",
            "jaxlib 0.3.2+cuda11.cudnn805 requires numpy>=1.19, but you have numpy 1.16.5 which is incompatible.\n",
            "jax 0.3.4 requires numpy>=1.19, but you have numpy 1.16.5 which is incompatible.\n",
            "google-colab 1.0.0 requires pandas>=1.1.0; python_version >= \"3.0\", but you have pandas 0.25.3 which is incompatible.\n",
            "fbprophet 0.7.1 requires pandas>=1.0.4, but you have pandas 0.25.3 which is incompatible.\n",
            "datascience 0.10.6 requires folium==0.2.1, but you have folium 0.8.3 which is incompatible.\n",
            "astropy 4.3.1 requires numpy>=1.17, but you have numpy 1.16.5 which is incompatible.\n",
            "albumentations 0.1.12 requires imgaug<0.2.7,>=0.2.5, but you have imgaug 0.2.9 which is incompatible.\u001b[0m\n",
            "Successfully installed numpy-1.16.5\n"
          ]
        },
        {
          "output_type": "display_data",
          "data": {
            "application/vnd.colab-display-data+json": {
              "pip_warning": {
                "packages": [
                  "numpy"
                ]
              }
            }
          },
          "metadata": {}
        },
        {
          "output_type": "stream",
          "name": "stdout",
          "text": [
            "Requirement already satisfied: matplotlib-venn in /usr/local/lib/python3.7/dist-packages (0.11.6)\n",
            "Requirement already satisfied: numpy in /usr/local/lib/python3.7/dist-packages (from matplotlib-venn) (1.16.5)\n",
            "Requirement already satisfied: scipy in /usr/local/lib/python3.7/dist-packages (from matplotlib-venn) (1.4.1)\n",
            "Requirement already satisfied: matplotlib in /usr/local/lib/python3.7/dist-packages (from matplotlib-venn) (3.2.2)\n",
            "Requirement already satisfied: pyparsing!=2.0.4,!=2.1.2,!=2.1.6,>=2.0.1 in /usr/local/lib/python3.7/dist-packages (from matplotlib->matplotlib-venn) (3.0.7)\n",
            "Requirement already satisfied: cycler>=0.10 in /usr/local/lib/python3.7/dist-packages (from matplotlib->matplotlib-venn) (0.11.0)\n",
            "Requirement already satisfied: python-dateutil>=2.1 in /usr/local/lib/python3.7/dist-packages (from matplotlib->matplotlib-venn) (2.8.2)\n",
            "Requirement already satisfied: kiwisolver>=1.0.1 in /usr/local/lib/python3.7/dist-packages (from matplotlib->matplotlib-venn) (1.4.0)\n",
            "Requirement already satisfied: typing-extensions in /usr/local/lib/python3.7/dist-packages (from kiwisolver>=1.0.1->matplotlib->matplotlib-venn) (3.10.0.2)\n",
            "Requirement already satisfied: six>=1.5 in /usr/local/lib/python3.7/dist-packages (from python-dateutil>=2.1->matplotlib->matplotlib-venn) (1.15.0)\n",
            "Selecting previously unselected package libfluidsynth1:amd64.\n",
            "(Reading database ... 156210 files and directories currently installed.)\n",
            "Preparing to unpack .../libfluidsynth1_1.1.9-1_amd64.deb ...\n",
            "Unpacking libfluidsynth1:amd64 (1.1.9-1) ...\n",
            "Setting up libfluidsynth1:amd64 (1.1.9-1) ...\n",
            "Processing triggers for libc-bin (2.27-3ubuntu1.3) ...\n",
            "/sbin/ldconfig.real: /usr/local/lib/python3.7/dist-packages/ideep4py/lib/libmkldnn.so.0 is not a symbolic link\n",
            "\n",
            "Selecting previously unselected package libarchive-dev:amd64.\n",
            "(Reading database ... 156215 files and directories currently installed.)\n",
            "Preparing to unpack .../libarchive-dev_3.2.2-3.1ubuntu0.7_amd64.deb ...\n",
            "Unpacking libarchive-dev:amd64 (3.2.2-3.1ubuntu0.7) ...\n",
            "Setting up libarchive-dev:amd64 (3.2.2-3.1ubuntu0.7) ...\n",
            "Processing triggers for man-db (2.8.3-2ubuntu0.1) ...\n",
            "Collecting libarchive\n",
            "  Downloading libarchive-0.4.7.tar.gz (23 kB)\n",
            "Collecting nose\n",
            "  Downloading nose-1.3.7-py3-none-any.whl (154 kB)\n",
            "\u001b[K     |████████████████████████████████| 154 kB 7.2 MB/s \n",
            "\u001b[?25hBuilding wheels for collected packages: libarchive\n",
            "  Building wheel for libarchive (setup.py) ... \u001b[?25l\u001b[?25hdone\n",
            "  Created wheel for libarchive: filename=libarchive-0.4.7-py3-none-any.whl size=31646 sha256=c665714badc771b1059ff31904056bcd71fadff834f0d70bfbf17f526b6aaaa4\n",
            "  Stored in directory: /root/.cache/pip/wheels/63/b1/c6/b3da79bec2012175bd43603eed98ef8548ac1733b77c1d4330\n",
            "Successfully built libarchive\n",
            "Installing collected packages: nose, libarchive\n",
            "Successfully installed libarchive-0.4.7 nose-1.3.7\n",
            "Requirement already satisfied: pydot in /usr/local/lib/python3.7/dist-packages (1.3.0)\n",
            "Requirement already satisfied: pyparsing>=2.1.4 in /usr/local/lib/python3.7/dist-packages (from pydot) (3.0.7)\n",
            "Collecting cartopy\n",
            "  Downloading Cartopy-0.20.2.tar.gz (10.8 MB)\n",
            "\u001b[K     |████████████████████████████████| 10.8 MB 5.5 MB/s \n",
            "\u001b[?25h  Installing build dependencies ... \u001b[?25l\u001b[?25hdone\n",
            "  Getting requirements to build wheel ... \u001b[?25l\u001b[?25herror\n",
            "\u001b[33mWARNING: Discarding https://files.pythonhosted.org/packages/f6/55/1e1c737dc9436b320deead73d1c455ddbb74b8b6992081863492f6f6378a/Cartopy-0.20.2.tar.gz#sha256=4d08c198ecaa50a6a6b109d0f14c070e813defc046a83ac5d7ab494f85599e35 (from https://pypi.org/simple/cartopy/) (requires-python:>=3.7). Command errored out with exit status 1: /usr/bin/python3 /usr/local/lib/python3.7/dist-packages/pip/_vendor/pep517/in_process/_in_process.py get_requires_for_build_wheel /tmp/tmplmg1egfw Check the logs for full command output.\u001b[0m\n",
            "  Downloading Cartopy-0.20.1.tar.gz (10.8 MB)\n",
            "\u001b[K     |████████████████████████████████| 10.8 MB 38.9 MB/s \n",
            "\u001b[?25h  Installing build dependencies ... \u001b[?25l\u001b[?25hdone\n",
            "  Getting requirements to build wheel ... \u001b[?25l\u001b[?25herror\n",
            "\u001b[33mWARNING: Discarding https://files.pythonhosted.org/packages/fc/59/aa52698e3838f4cd0e7eaa75bd86837e9e0b05041dbdaee3cda2fffced06/Cartopy-0.20.1.tar.gz#sha256=91f87b130e2574547a20cd634498df97d797abd12dcfd0235bc0cdbcec8b05e3 (from https://pypi.org/simple/cartopy/) (requires-python:>=3.7). Command errored out with exit status 1: /usr/bin/python3 /usr/local/lib/python3.7/dist-packages/pip/_vendor/pep517/in_process/_in_process.py get_requires_for_build_wheel /tmp/tmpkrks7j5b Check the logs for full command output.\u001b[0m\n",
            "  Downloading Cartopy-0.20.0.tar.gz (10.8 MB)\n",
            "\u001b[K     |████████████████████████████████| 10.8 MB 39.4 MB/s \n",
            "\u001b[?25h  Installing build dependencies ... \u001b[?25l\u001b[?25hdone\n",
            "  Getting requirements to build wheel ... \u001b[?25l\u001b[?25herror\n",
            "\u001b[33mWARNING: Discarding https://files.pythonhosted.org/packages/0f/c0/58453b036e79046d211f083880d58dcce787e7e07647ac25dc46c6555099/Cartopy-0.20.0.tar.gz#sha256=eae58aff26806e63cf115b2bce9477cedc4aa9f578c5e477b2c25cfa404f2b7a (from https://pypi.org/simple/cartopy/) (requires-python:>=3.7). Command errored out with exit status 1: /usr/bin/python3 /usr/local/lib/python3.7/dist-packages/pip/_vendor/pep517/in_process/_in_process.py get_requires_for_build_wheel /tmp/tmp_4v2cxa9 Check the logs for full command output.\u001b[0m\n",
            "  Downloading Cartopy-0.19.0.post1.tar.gz (12.1 MB)\n",
            "\u001b[K     |████████████████████████████████| 12.1 MB 36.2 MB/s \n",
            "\u001b[?25h  Installing build dependencies ... \u001b[?25l\u001b[?25hdone\n",
            "  Getting requirements to build wheel ... \u001b[?25l\u001b[?25hdone\n",
            "    Preparing wheel metadata ... \u001b[?25l\u001b[?25hdone\n",
            "Requirement already satisfied: shapely>=1.5.6 in /usr/local/lib/python3.7/dist-packages (from cartopy) (1.8.1.post1)\n",
            "Requirement already satisfied: numpy>=1.13.3 in /usr/local/lib/python3.7/dist-packages (from cartopy) (1.16.5)\n",
            "Collecting pyshp>=2\n",
            "  Downloading pyshp-2.2.0-py3-none-any.whl (44 kB)\n",
            "\u001b[K     |████████████████████████████████| 44 kB 2.7 MB/s \n",
            "\u001b[?25hBuilding wheels for collected packages: cartopy\n",
            "  Building wheel for cartopy (PEP 517) ... \u001b[?25l\u001b[?25hdone\n",
            "  Created wheel for cartopy: filename=Cartopy-0.19.0.post1-cp37-cp37m-linux_x86_64.whl size=12516301 sha256=7c75c52af29a71a80968e89f8714bada48d3e752bbab5b6c95647bd6f8c657a5\n",
            "  Stored in directory: /root/.cache/pip/wheels/98/01/f7/bd10aeb96fe4b518cde5f7c4f5e12c7202f85b7353a5017847\n",
            "Successfully built cartopy\n",
            "Installing collected packages: pyshp, cartopy\n",
            "Successfully installed cartopy-0.19.0.post1 pyshp-2.2.0\n"
          ]
        }
      ]
    },
    {
      "cell_type": "code",
      "source": [
        "import pandas as pd\n",
        "titanic = pd.read_csv('/content/inclass_titanic.csv')\n",
        "titanic.head()\n"
      ],
      "metadata": {
        "id": "auw7ymXppi6t",
        "outputId": "7abbc0cb-646b-4fad-b26a-5505dc8c6ce5",
        "colab": {
          "base_uri": "https://localhost:8080/",
          "height": 206
        }
      },
      "execution_count": 2,
      "outputs": [
        {
          "output_type": "execute_result",
          "data": {
            "text/plain": [
              "   Survived  Pclass     Sex   Age  SibSp  Parch     Fare Embarked\n",
              "0         0       3    male  22.0      1      0   7.2500        S\n",
              "1         1       1  female  38.0      1      0  71.2833        C\n",
              "2         1       3  female  26.0      0      0   7.9250        S\n",
              "3         1       1  female  35.0      1      0  53.1000        S\n",
              "4         0       3    male  35.0      0      0   8.0500        S"
            ],
            "text/html": [
              "\n",
              "  <div id=\"df-f405dd40-a5b1-4300-854a-85ce36d77886\">\n",
              "    <div class=\"colab-df-container\">\n",
              "      <div>\n",
              "<style scoped>\n",
              "    .dataframe tbody tr th:only-of-type {\n",
              "        vertical-align: middle;\n",
              "    }\n",
              "\n",
              "    .dataframe tbody tr th {\n",
              "        vertical-align: top;\n",
              "    }\n",
              "\n",
              "    .dataframe thead th {\n",
              "        text-align: right;\n",
              "    }\n",
              "</style>\n",
              "<table border=\"1\" class=\"dataframe\">\n",
              "  <thead>\n",
              "    <tr style=\"text-align: right;\">\n",
              "      <th></th>\n",
              "      <th>Survived</th>\n",
              "      <th>Pclass</th>\n",
              "      <th>Sex</th>\n",
              "      <th>Age</th>\n",
              "      <th>SibSp</th>\n",
              "      <th>Parch</th>\n",
              "      <th>Fare</th>\n",
              "      <th>Embarked</th>\n",
              "    </tr>\n",
              "  </thead>\n",
              "  <tbody>\n",
              "    <tr>\n",
              "      <th>0</th>\n",
              "      <td>0</td>\n",
              "      <td>3</td>\n",
              "      <td>male</td>\n",
              "      <td>22.0</td>\n",
              "      <td>1</td>\n",
              "      <td>0</td>\n",
              "      <td>7.2500</td>\n",
              "      <td>S</td>\n",
              "    </tr>\n",
              "    <tr>\n",
              "      <th>1</th>\n",
              "      <td>1</td>\n",
              "      <td>1</td>\n",
              "      <td>female</td>\n",
              "      <td>38.0</td>\n",
              "      <td>1</td>\n",
              "      <td>0</td>\n",
              "      <td>71.2833</td>\n",
              "      <td>C</td>\n",
              "    </tr>\n",
              "    <tr>\n",
              "      <th>2</th>\n",
              "      <td>1</td>\n",
              "      <td>3</td>\n",
              "      <td>female</td>\n",
              "      <td>26.0</td>\n",
              "      <td>0</td>\n",
              "      <td>0</td>\n",
              "      <td>7.9250</td>\n",
              "      <td>S</td>\n",
              "    </tr>\n",
              "    <tr>\n",
              "      <th>3</th>\n",
              "      <td>1</td>\n",
              "      <td>1</td>\n",
              "      <td>female</td>\n",
              "      <td>35.0</td>\n",
              "      <td>1</td>\n",
              "      <td>0</td>\n",
              "      <td>53.1000</td>\n",
              "      <td>S</td>\n",
              "    </tr>\n",
              "    <tr>\n",
              "      <th>4</th>\n",
              "      <td>0</td>\n",
              "      <td>3</td>\n",
              "      <td>male</td>\n",
              "      <td>35.0</td>\n",
              "      <td>0</td>\n",
              "      <td>0</td>\n",
              "      <td>8.0500</td>\n",
              "      <td>S</td>\n",
              "    </tr>\n",
              "  </tbody>\n",
              "</table>\n",
              "</div>\n",
              "      <button class=\"colab-df-convert\" onclick=\"convertToInteractive('df-f405dd40-a5b1-4300-854a-85ce36d77886')\"\n",
              "              title=\"Convert this dataframe to an interactive table.\"\n",
              "              style=\"display:none;\">\n",
              "        \n",
              "  <svg xmlns=\"http://www.w3.org/2000/svg\" height=\"24px\"viewBox=\"0 0 24 24\"\n",
              "       width=\"24px\">\n",
              "    <path d=\"M0 0h24v24H0V0z\" fill=\"none\"/>\n",
              "    <path d=\"M18.56 5.44l.94 2.06.94-2.06 2.06-.94-2.06-.94-.94-2.06-.94 2.06-2.06.94zm-11 1L8.5 8.5l.94-2.06 2.06-.94-2.06-.94L8.5 2.5l-.94 2.06-2.06.94zm10 10l.94 2.06.94-2.06 2.06-.94-2.06-.94-.94-2.06-.94 2.06-2.06.94z\"/><path d=\"M17.41 7.96l-1.37-1.37c-.4-.4-.92-.59-1.43-.59-.52 0-1.04.2-1.43.59L10.3 9.45l-7.72 7.72c-.78.78-.78 2.05 0 2.83L4 21.41c.39.39.9.59 1.41.59.51 0 1.02-.2 1.41-.59l7.78-7.78 2.81-2.81c.8-.78.8-2.07 0-2.86zM5.41 20L4 18.59l7.72-7.72 1.47 1.35L5.41 20z\"/>\n",
              "  </svg>\n",
              "      </button>\n",
              "      \n",
              "  <style>\n",
              "    .colab-df-container {\n",
              "      display:flex;\n",
              "      flex-wrap:wrap;\n",
              "      gap: 12px;\n",
              "    }\n",
              "\n",
              "    .colab-df-convert {\n",
              "      background-color: #E8F0FE;\n",
              "      border: none;\n",
              "      border-radius: 50%;\n",
              "      cursor: pointer;\n",
              "      display: none;\n",
              "      fill: #1967D2;\n",
              "      height: 32px;\n",
              "      padding: 0 0 0 0;\n",
              "      width: 32px;\n",
              "    }\n",
              "\n",
              "    .colab-df-convert:hover {\n",
              "      background-color: #E2EBFA;\n",
              "      box-shadow: 0px 1px 2px rgba(60, 64, 67, 0.3), 0px 1px 3px 1px rgba(60, 64, 67, 0.15);\n",
              "      fill: #174EA6;\n",
              "    }\n",
              "\n",
              "    [theme=dark] .colab-df-convert {\n",
              "      background-color: #3B4455;\n",
              "      fill: #D2E3FC;\n",
              "    }\n",
              "\n",
              "    [theme=dark] .colab-df-convert:hover {\n",
              "      background-color: #434B5C;\n",
              "      box-shadow: 0px 1px 3px 1px rgba(0, 0, 0, 0.15);\n",
              "      filter: drop-shadow(0px 1px 2px rgba(0, 0, 0, 0.3));\n",
              "      fill: #FFFFFF;\n",
              "    }\n",
              "  </style>\n",
              "\n",
              "      <script>\n",
              "        const buttonEl =\n",
              "          document.querySelector('#df-f405dd40-a5b1-4300-854a-85ce36d77886 button.colab-df-convert');\n",
              "        buttonEl.style.display =\n",
              "          google.colab.kernel.accessAllowed ? 'block' : 'none';\n",
              "\n",
              "        async function convertToInteractive(key) {\n",
              "          const element = document.querySelector('#df-f405dd40-a5b1-4300-854a-85ce36d77886');\n",
              "          const dataTable =\n",
              "            await google.colab.kernel.invokeFunction('convertToInteractive',\n",
              "                                                     [key], {});\n",
              "          if (!dataTable) return;\n",
              "\n",
              "          const docLinkHtml = 'Like what you see? Visit the ' +\n",
              "            '<a target=\"_blank\" href=https://colab.research.google.com/notebooks/data_table.ipynb>data table notebook</a>'\n",
              "            + ' to learn more about interactive tables.';\n",
              "          element.innerHTML = '';\n",
              "          dataTable['output_type'] = 'display_data';\n",
              "          await google.colab.output.renderOutput(dataTable, element);\n",
              "          const docLink = document.createElement('div');\n",
              "          docLink.innerHTML = docLinkHtml;\n",
              "          element.appendChild(docLink);\n",
              "        }\n",
              "      </script>\n",
              "    </div>\n",
              "  </div>\n",
              "  "
            ]
          },
          "metadata": {},
          "execution_count": 2
        }
      ]
    },
    {
      "cell_type": "code",
      "source": [
        "titanic.info()"
      ],
      "metadata": {
        "id": "NRte-pFwqkip",
        "outputId": "68a9c943-8acb-4f0c-da4a-3945b9a8ba10",
        "colab": {
          "base_uri": "https://localhost:8080/"
        }
      },
      "execution_count": 3,
      "outputs": [
        {
          "output_type": "stream",
          "name": "stdout",
          "text": [
            "<class 'pandas.core.frame.DataFrame'>\n",
            "RangeIndex: 891 entries, 0 to 890\n",
            "Data columns (total 8 columns):\n",
            "Survived    891 non-null int64\n",
            "Pclass      891 non-null int64\n",
            "Sex         891 non-null object\n",
            "Age         891 non-null float64\n",
            "SibSp       891 non-null int64\n",
            "Parch       891 non-null int64\n",
            "Fare        891 non-null float64\n",
            "Embarked    891 non-null object\n",
            "dtypes: float64(2), int64(4), object(2)\n",
            "memory usage: 55.8+ KB\n"
          ]
        }
      ]
    },
    {
      "cell_type": "code",
      "source": [
        "from sklearn import metrics # Module For evaluation metrics\n",
        "from sklearn.model_selection import train_test_split # Module for splitting the data"
      ],
      "metadata": {
        "id": "LDCo8AmStahL"
      },
      "execution_count": 4,
      "outputs": []
    },
    {
      "cell_type": "code",
      "source": [
        "X = titanic.drop([\"Survived\"], axis= \"columns\") # droping the label variable (Purchased) from the data\n",
        "y = titanic[\"Survived\"]"
      ],
      "metadata": {
        "id": "-524CUEjs_9i"
      },
      "execution_count": 5,
      "outputs": []
    },
    {
      "cell_type": "code",
      "source": [
        "X.head()"
      ],
      "metadata": {
        "id": "LOhr-0MRtWXI",
        "outputId": "6bed511a-fa5d-4a0c-bbf8-d07abfd0a73a",
        "colab": {
          "base_uri": "https://localhost:8080/",
          "height": 206
        }
      },
      "execution_count": 6,
      "outputs": [
        {
          "output_type": "execute_result",
          "data": {
            "text/plain": [
              "   Pclass     Sex   Age  SibSp  Parch     Fare Embarked\n",
              "0       3    male  22.0      1      0   7.2500        S\n",
              "1       1  female  38.0      1      0  71.2833        C\n",
              "2       3  female  26.0      0      0   7.9250        S\n",
              "3       1  female  35.0      1      0  53.1000        S\n",
              "4       3    male  35.0      0      0   8.0500        S"
            ],
            "text/html": [
              "\n",
              "  <div id=\"df-d6088a48-53f8-4ceb-b676-0b673d9ad70b\">\n",
              "    <div class=\"colab-df-container\">\n",
              "      <div>\n",
              "<style scoped>\n",
              "    .dataframe tbody tr th:only-of-type {\n",
              "        vertical-align: middle;\n",
              "    }\n",
              "\n",
              "    .dataframe tbody tr th {\n",
              "        vertical-align: top;\n",
              "    }\n",
              "\n",
              "    .dataframe thead th {\n",
              "        text-align: right;\n",
              "    }\n",
              "</style>\n",
              "<table border=\"1\" class=\"dataframe\">\n",
              "  <thead>\n",
              "    <tr style=\"text-align: right;\">\n",
              "      <th></th>\n",
              "      <th>Pclass</th>\n",
              "      <th>Sex</th>\n",
              "      <th>Age</th>\n",
              "      <th>SibSp</th>\n",
              "      <th>Parch</th>\n",
              "      <th>Fare</th>\n",
              "      <th>Embarked</th>\n",
              "    </tr>\n",
              "  </thead>\n",
              "  <tbody>\n",
              "    <tr>\n",
              "      <th>0</th>\n",
              "      <td>3</td>\n",
              "      <td>male</td>\n",
              "      <td>22.0</td>\n",
              "      <td>1</td>\n",
              "      <td>0</td>\n",
              "      <td>7.2500</td>\n",
              "      <td>S</td>\n",
              "    </tr>\n",
              "    <tr>\n",
              "      <th>1</th>\n",
              "      <td>1</td>\n",
              "      <td>female</td>\n",
              "      <td>38.0</td>\n",
              "      <td>1</td>\n",
              "      <td>0</td>\n",
              "      <td>71.2833</td>\n",
              "      <td>C</td>\n",
              "    </tr>\n",
              "    <tr>\n",
              "      <th>2</th>\n",
              "      <td>3</td>\n",
              "      <td>female</td>\n",
              "      <td>26.0</td>\n",
              "      <td>0</td>\n",
              "      <td>0</td>\n",
              "      <td>7.9250</td>\n",
              "      <td>S</td>\n",
              "    </tr>\n",
              "    <tr>\n",
              "      <th>3</th>\n",
              "      <td>1</td>\n",
              "      <td>female</td>\n",
              "      <td>35.0</td>\n",
              "      <td>1</td>\n",
              "      <td>0</td>\n",
              "      <td>53.1000</td>\n",
              "      <td>S</td>\n",
              "    </tr>\n",
              "    <tr>\n",
              "      <th>4</th>\n",
              "      <td>3</td>\n",
              "      <td>male</td>\n",
              "      <td>35.0</td>\n",
              "      <td>0</td>\n",
              "      <td>0</td>\n",
              "      <td>8.0500</td>\n",
              "      <td>S</td>\n",
              "    </tr>\n",
              "  </tbody>\n",
              "</table>\n",
              "</div>\n",
              "      <button class=\"colab-df-convert\" onclick=\"convertToInteractive('df-d6088a48-53f8-4ceb-b676-0b673d9ad70b')\"\n",
              "              title=\"Convert this dataframe to an interactive table.\"\n",
              "              style=\"display:none;\">\n",
              "        \n",
              "  <svg xmlns=\"http://www.w3.org/2000/svg\" height=\"24px\"viewBox=\"0 0 24 24\"\n",
              "       width=\"24px\">\n",
              "    <path d=\"M0 0h24v24H0V0z\" fill=\"none\"/>\n",
              "    <path d=\"M18.56 5.44l.94 2.06.94-2.06 2.06-.94-2.06-.94-.94-2.06-.94 2.06-2.06.94zm-11 1L8.5 8.5l.94-2.06 2.06-.94-2.06-.94L8.5 2.5l-.94 2.06-2.06.94zm10 10l.94 2.06.94-2.06 2.06-.94-2.06-.94-.94-2.06-.94 2.06-2.06.94z\"/><path d=\"M17.41 7.96l-1.37-1.37c-.4-.4-.92-.59-1.43-.59-.52 0-1.04.2-1.43.59L10.3 9.45l-7.72 7.72c-.78.78-.78 2.05 0 2.83L4 21.41c.39.39.9.59 1.41.59.51 0 1.02-.2 1.41-.59l7.78-7.78 2.81-2.81c.8-.78.8-2.07 0-2.86zM5.41 20L4 18.59l7.72-7.72 1.47 1.35L5.41 20z\"/>\n",
              "  </svg>\n",
              "      </button>\n",
              "      \n",
              "  <style>\n",
              "    .colab-df-container {\n",
              "      display:flex;\n",
              "      flex-wrap:wrap;\n",
              "      gap: 12px;\n",
              "    }\n",
              "\n",
              "    .colab-df-convert {\n",
              "      background-color: #E8F0FE;\n",
              "      border: none;\n",
              "      border-radius: 50%;\n",
              "      cursor: pointer;\n",
              "      display: none;\n",
              "      fill: #1967D2;\n",
              "      height: 32px;\n",
              "      padding: 0 0 0 0;\n",
              "      width: 32px;\n",
              "    }\n",
              "\n",
              "    .colab-df-convert:hover {\n",
              "      background-color: #E2EBFA;\n",
              "      box-shadow: 0px 1px 2px rgba(60, 64, 67, 0.3), 0px 1px 3px 1px rgba(60, 64, 67, 0.15);\n",
              "      fill: #174EA6;\n",
              "    }\n",
              "\n",
              "    [theme=dark] .colab-df-convert {\n",
              "      background-color: #3B4455;\n",
              "      fill: #D2E3FC;\n",
              "    }\n",
              "\n",
              "    [theme=dark] .colab-df-convert:hover {\n",
              "      background-color: #434B5C;\n",
              "      box-shadow: 0px 1px 3px 1px rgba(0, 0, 0, 0.15);\n",
              "      filter: drop-shadow(0px 1px 2px rgba(0, 0, 0, 0.3));\n",
              "      fill: #FFFFFF;\n",
              "    }\n",
              "  </style>\n",
              "\n",
              "      <script>\n",
              "        const buttonEl =\n",
              "          document.querySelector('#df-d6088a48-53f8-4ceb-b676-0b673d9ad70b button.colab-df-convert');\n",
              "        buttonEl.style.display =\n",
              "          google.colab.kernel.accessAllowed ? 'block' : 'none';\n",
              "\n",
              "        async function convertToInteractive(key) {\n",
              "          const element = document.querySelector('#df-d6088a48-53f8-4ceb-b676-0b673d9ad70b');\n",
              "          const dataTable =\n",
              "            await google.colab.kernel.invokeFunction('convertToInteractive',\n",
              "                                                     [key], {});\n",
              "          if (!dataTable) return;\n",
              "\n",
              "          const docLinkHtml = 'Like what you see? Visit the ' +\n",
              "            '<a target=\"_blank\" href=https://colab.research.google.com/notebooks/data_table.ipynb>data table notebook</a>'\n",
              "            + ' to learn more about interactive tables.';\n",
              "          element.innerHTML = '';\n",
              "          dataTable['output_type'] = 'display_data';\n",
              "          await google.colab.output.renderOutput(dataTable, element);\n",
              "          const docLink = document.createElement('div');\n",
              "          docLink.innerHTML = docLinkHtml;\n",
              "          element.appendChild(docLink);\n",
              "        }\n",
              "      </script>\n",
              "    </div>\n",
              "  </div>\n",
              "  "
            ]
          },
          "metadata": {},
          "execution_count": 6
        }
      ]
    },
    {
      "cell_type": "code",
      "source": [
        "pd.get_dummies([ \"Survived\"])"
      ],
      "metadata": {
        "id": "jrxmrYoauVVG",
        "outputId": "44348b32-2a20-4399-be40-0cfcde4fd662",
        "colab": {
          "base_uri": "https://localhost:8080/",
          "height": 81
        }
      },
      "execution_count": 7,
      "outputs": [
        {
          "output_type": "execute_result",
          "data": {
            "text/plain": [
              "   Survived\n",
              "0         1"
            ],
            "text/html": [
              "\n",
              "  <div id=\"df-9fd13bf1-06c6-4c03-a961-6ba390cc4c3c\">\n",
              "    <div class=\"colab-df-container\">\n",
              "      <div>\n",
              "<style scoped>\n",
              "    .dataframe tbody tr th:only-of-type {\n",
              "        vertical-align: middle;\n",
              "    }\n",
              "\n",
              "    .dataframe tbody tr th {\n",
              "        vertical-align: top;\n",
              "    }\n",
              "\n",
              "    .dataframe thead th {\n",
              "        text-align: right;\n",
              "    }\n",
              "</style>\n",
              "<table border=\"1\" class=\"dataframe\">\n",
              "  <thead>\n",
              "    <tr style=\"text-align: right;\">\n",
              "      <th></th>\n",
              "      <th>Survived</th>\n",
              "    </tr>\n",
              "  </thead>\n",
              "  <tbody>\n",
              "    <tr>\n",
              "      <th>0</th>\n",
              "      <td>1</td>\n",
              "    </tr>\n",
              "  </tbody>\n",
              "</table>\n",
              "</div>\n",
              "      <button class=\"colab-df-convert\" onclick=\"convertToInteractive('df-9fd13bf1-06c6-4c03-a961-6ba390cc4c3c')\"\n",
              "              title=\"Convert this dataframe to an interactive table.\"\n",
              "              style=\"display:none;\">\n",
              "        \n",
              "  <svg xmlns=\"http://www.w3.org/2000/svg\" height=\"24px\"viewBox=\"0 0 24 24\"\n",
              "       width=\"24px\">\n",
              "    <path d=\"M0 0h24v24H0V0z\" fill=\"none\"/>\n",
              "    <path d=\"M18.56 5.44l.94 2.06.94-2.06 2.06-.94-2.06-.94-.94-2.06-.94 2.06-2.06.94zm-11 1L8.5 8.5l.94-2.06 2.06-.94-2.06-.94L8.5 2.5l-.94 2.06-2.06.94zm10 10l.94 2.06.94-2.06 2.06-.94-2.06-.94-.94-2.06-.94 2.06-2.06.94z\"/><path d=\"M17.41 7.96l-1.37-1.37c-.4-.4-.92-.59-1.43-.59-.52 0-1.04.2-1.43.59L10.3 9.45l-7.72 7.72c-.78.78-.78 2.05 0 2.83L4 21.41c.39.39.9.59 1.41.59.51 0 1.02-.2 1.41-.59l7.78-7.78 2.81-2.81c.8-.78.8-2.07 0-2.86zM5.41 20L4 18.59l7.72-7.72 1.47 1.35L5.41 20z\"/>\n",
              "  </svg>\n",
              "      </button>\n",
              "      \n",
              "  <style>\n",
              "    .colab-df-container {\n",
              "      display:flex;\n",
              "      flex-wrap:wrap;\n",
              "      gap: 12px;\n",
              "    }\n",
              "\n",
              "    .colab-df-convert {\n",
              "      background-color: #E8F0FE;\n",
              "      border: none;\n",
              "      border-radius: 50%;\n",
              "      cursor: pointer;\n",
              "      display: none;\n",
              "      fill: #1967D2;\n",
              "      height: 32px;\n",
              "      padding: 0 0 0 0;\n",
              "      width: 32px;\n",
              "    }\n",
              "\n",
              "    .colab-df-convert:hover {\n",
              "      background-color: #E2EBFA;\n",
              "      box-shadow: 0px 1px 2px rgba(60, 64, 67, 0.3), 0px 1px 3px 1px rgba(60, 64, 67, 0.15);\n",
              "      fill: #174EA6;\n",
              "    }\n",
              "\n",
              "    [theme=dark] .colab-df-convert {\n",
              "      background-color: #3B4455;\n",
              "      fill: #D2E3FC;\n",
              "    }\n",
              "\n",
              "    [theme=dark] .colab-df-convert:hover {\n",
              "      background-color: #434B5C;\n",
              "      box-shadow: 0px 1px 3px 1px rgba(0, 0, 0, 0.15);\n",
              "      filter: drop-shadow(0px 1px 2px rgba(0, 0, 0, 0.3));\n",
              "      fill: #FFFFFF;\n",
              "    }\n",
              "  </style>\n",
              "\n",
              "      <script>\n",
              "        const buttonEl =\n",
              "          document.querySelector('#df-9fd13bf1-06c6-4c03-a961-6ba390cc4c3c button.colab-df-convert');\n",
              "        buttonEl.style.display =\n",
              "          google.colab.kernel.accessAllowed ? 'block' : 'none';\n",
              "\n",
              "        async function convertToInteractive(key) {\n",
              "          const element = document.querySelector('#df-9fd13bf1-06c6-4c03-a961-6ba390cc4c3c');\n",
              "          const dataTable =\n",
              "            await google.colab.kernel.invokeFunction('convertToInteractive',\n",
              "                                                     [key], {});\n",
              "          if (!dataTable) return;\n",
              "\n",
              "          const docLinkHtml = 'Like what you see? Visit the ' +\n",
              "            '<a target=\"_blank\" href=https://colab.research.google.com/notebooks/data_table.ipynb>data table notebook</a>'\n",
              "            + ' to learn more about interactive tables.';\n",
              "          element.innerHTML = '';\n",
              "          dataTable['output_type'] = 'display_data';\n",
              "          await google.colab.output.renderOutput(dataTable, element);\n",
              "          const docLink = document.createElement('div');\n",
              "          docLink.innerHTML = docLinkHtml;\n",
              "          element.appendChild(docLink);\n",
              "        }\n",
              "      </script>\n",
              "    </div>\n",
              "  </div>\n",
              "  "
            ]
          },
          "metadata": {},
          "execution_count": 7
        }
      ]
    },
    {
      "cell_type": "code",
      "source": [
        "X = pd.get_dummies(X)\n",
        "X.head()"
      ],
      "metadata": {
        "id": "6BW9IQfVuVIt",
        "outputId": "0ca30c96-126e-40ee-e5bc-0692f2bcc66d",
        "colab": {
          "base_uri": "https://localhost:8080/",
          "height": 206
        }
      },
      "execution_count": 8,
      "outputs": [
        {
          "output_type": "execute_result",
          "data": {
            "text/plain": [
              "   Pclass   Age  SibSp  Parch     Fare  Sex_female  Sex_male  Embarked_C  \\\n",
              "0       3  22.0      1      0   7.2500           0         1           0   \n",
              "1       1  38.0      1      0  71.2833           1         0           1   \n",
              "2       3  26.0      0      0   7.9250           1         0           0   \n",
              "3       1  35.0      1      0  53.1000           1         0           0   \n",
              "4       3  35.0      0      0   8.0500           0         1           0   \n",
              "\n",
              "   Embarked_Q  Embarked_S  \n",
              "0           0           1  \n",
              "1           0           0  \n",
              "2           0           1  \n",
              "3           0           1  \n",
              "4           0           1  "
            ],
            "text/html": [
              "\n",
              "  <div id=\"df-79e88888-9840-478d-a439-0363a311b531\">\n",
              "    <div class=\"colab-df-container\">\n",
              "      <div>\n",
              "<style scoped>\n",
              "    .dataframe tbody tr th:only-of-type {\n",
              "        vertical-align: middle;\n",
              "    }\n",
              "\n",
              "    .dataframe tbody tr th {\n",
              "        vertical-align: top;\n",
              "    }\n",
              "\n",
              "    .dataframe thead th {\n",
              "        text-align: right;\n",
              "    }\n",
              "</style>\n",
              "<table border=\"1\" class=\"dataframe\">\n",
              "  <thead>\n",
              "    <tr style=\"text-align: right;\">\n",
              "      <th></th>\n",
              "      <th>Pclass</th>\n",
              "      <th>Age</th>\n",
              "      <th>SibSp</th>\n",
              "      <th>Parch</th>\n",
              "      <th>Fare</th>\n",
              "      <th>Sex_female</th>\n",
              "      <th>Sex_male</th>\n",
              "      <th>Embarked_C</th>\n",
              "      <th>Embarked_Q</th>\n",
              "      <th>Embarked_S</th>\n",
              "    </tr>\n",
              "  </thead>\n",
              "  <tbody>\n",
              "    <tr>\n",
              "      <th>0</th>\n",
              "      <td>3</td>\n",
              "      <td>22.0</td>\n",
              "      <td>1</td>\n",
              "      <td>0</td>\n",
              "      <td>7.2500</td>\n",
              "      <td>0</td>\n",
              "      <td>1</td>\n",
              "      <td>0</td>\n",
              "      <td>0</td>\n",
              "      <td>1</td>\n",
              "    </tr>\n",
              "    <tr>\n",
              "      <th>1</th>\n",
              "      <td>1</td>\n",
              "      <td>38.0</td>\n",
              "      <td>1</td>\n",
              "      <td>0</td>\n",
              "      <td>71.2833</td>\n",
              "      <td>1</td>\n",
              "      <td>0</td>\n",
              "      <td>1</td>\n",
              "      <td>0</td>\n",
              "      <td>0</td>\n",
              "    </tr>\n",
              "    <tr>\n",
              "      <th>2</th>\n",
              "      <td>3</td>\n",
              "      <td>26.0</td>\n",
              "      <td>0</td>\n",
              "      <td>0</td>\n",
              "      <td>7.9250</td>\n",
              "      <td>1</td>\n",
              "      <td>0</td>\n",
              "      <td>0</td>\n",
              "      <td>0</td>\n",
              "      <td>1</td>\n",
              "    </tr>\n",
              "    <tr>\n",
              "      <th>3</th>\n",
              "      <td>1</td>\n",
              "      <td>35.0</td>\n",
              "      <td>1</td>\n",
              "      <td>0</td>\n",
              "      <td>53.1000</td>\n",
              "      <td>1</td>\n",
              "      <td>0</td>\n",
              "      <td>0</td>\n",
              "      <td>0</td>\n",
              "      <td>1</td>\n",
              "    </tr>\n",
              "    <tr>\n",
              "      <th>4</th>\n",
              "      <td>3</td>\n",
              "      <td>35.0</td>\n",
              "      <td>0</td>\n",
              "      <td>0</td>\n",
              "      <td>8.0500</td>\n",
              "      <td>0</td>\n",
              "      <td>1</td>\n",
              "      <td>0</td>\n",
              "      <td>0</td>\n",
              "      <td>1</td>\n",
              "    </tr>\n",
              "  </tbody>\n",
              "</table>\n",
              "</div>\n",
              "      <button class=\"colab-df-convert\" onclick=\"convertToInteractive('df-79e88888-9840-478d-a439-0363a311b531')\"\n",
              "              title=\"Convert this dataframe to an interactive table.\"\n",
              "              style=\"display:none;\">\n",
              "        \n",
              "  <svg xmlns=\"http://www.w3.org/2000/svg\" height=\"24px\"viewBox=\"0 0 24 24\"\n",
              "       width=\"24px\">\n",
              "    <path d=\"M0 0h24v24H0V0z\" fill=\"none\"/>\n",
              "    <path d=\"M18.56 5.44l.94 2.06.94-2.06 2.06-.94-2.06-.94-.94-2.06-.94 2.06-2.06.94zm-11 1L8.5 8.5l.94-2.06 2.06-.94-2.06-.94L8.5 2.5l-.94 2.06-2.06.94zm10 10l.94 2.06.94-2.06 2.06-.94-2.06-.94-.94-2.06-.94 2.06-2.06.94z\"/><path d=\"M17.41 7.96l-1.37-1.37c-.4-.4-.92-.59-1.43-.59-.52 0-1.04.2-1.43.59L10.3 9.45l-7.72 7.72c-.78.78-.78 2.05 0 2.83L4 21.41c.39.39.9.59 1.41.59.51 0 1.02-.2 1.41-.59l7.78-7.78 2.81-2.81c.8-.78.8-2.07 0-2.86zM5.41 20L4 18.59l7.72-7.72 1.47 1.35L5.41 20z\"/>\n",
              "  </svg>\n",
              "      </button>\n",
              "      \n",
              "  <style>\n",
              "    .colab-df-container {\n",
              "      display:flex;\n",
              "      flex-wrap:wrap;\n",
              "      gap: 12px;\n",
              "    }\n",
              "\n",
              "    .colab-df-convert {\n",
              "      background-color: #E8F0FE;\n",
              "      border: none;\n",
              "      border-radius: 50%;\n",
              "      cursor: pointer;\n",
              "      display: none;\n",
              "      fill: #1967D2;\n",
              "      height: 32px;\n",
              "      padding: 0 0 0 0;\n",
              "      width: 32px;\n",
              "    }\n",
              "\n",
              "    .colab-df-convert:hover {\n",
              "      background-color: #E2EBFA;\n",
              "      box-shadow: 0px 1px 2px rgba(60, 64, 67, 0.3), 0px 1px 3px 1px rgba(60, 64, 67, 0.15);\n",
              "      fill: #174EA6;\n",
              "    }\n",
              "\n",
              "    [theme=dark] .colab-df-convert {\n",
              "      background-color: #3B4455;\n",
              "      fill: #D2E3FC;\n",
              "    }\n",
              "\n",
              "    [theme=dark] .colab-df-convert:hover {\n",
              "      background-color: #434B5C;\n",
              "      box-shadow: 0px 1px 3px 1px rgba(0, 0, 0, 0.15);\n",
              "      filter: drop-shadow(0px 1px 2px rgba(0, 0, 0, 0.3));\n",
              "      fill: #FFFFFF;\n",
              "    }\n",
              "  </style>\n",
              "\n",
              "      <script>\n",
              "        const buttonEl =\n",
              "          document.querySelector('#df-79e88888-9840-478d-a439-0363a311b531 button.colab-df-convert');\n",
              "        buttonEl.style.display =\n",
              "          google.colab.kernel.accessAllowed ? 'block' : 'none';\n",
              "\n",
              "        async function convertToInteractive(key) {\n",
              "          const element = document.querySelector('#df-79e88888-9840-478d-a439-0363a311b531');\n",
              "          const dataTable =\n",
              "            await google.colab.kernel.invokeFunction('convertToInteractive',\n",
              "                                                     [key], {});\n",
              "          if (!dataTable) return;\n",
              "\n",
              "          const docLinkHtml = 'Like what you see? Visit the ' +\n",
              "            '<a target=\"_blank\" href=https://colab.research.google.com/notebooks/data_table.ipynb>data table notebook</a>'\n",
              "            + ' to learn more about interactive tables.';\n",
              "          element.innerHTML = '';\n",
              "          dataTable['output_type'] = 'display_data';\n",
              "          await google.colab.output.renderOutput(dataTable, element);\n",
              "          const docLink = document.createElement('div');\n",
              "          docLink.innerHTML = docLinkHtml;\n",
              "          element.appendChild(docLink);\n",
              "        }\n",
              "      </script>\n",
              "    </div>\n",
              "  </div>\n",
              "  "
            ]
          },
          "metadata": {},
          "execution_count": 8
        }
      ]
    },
    {
      "cell_type": "code",
      "source": [
        "X.info()"
      ],
      "metadata": {
        "id": "zj-8VBvOuU-I",
        "outputId": "344f079a-9163-45cc-f44c-4375378fe6a6",
        "colab": {
          "base_uri": "https://localhost:8080/"
        }
      },
      "execution_count": 9,
      "outputs": [
        {
          "output_type": "stream",
          "name": "stdout",
          "text": [
            "<class 'pandas.core.frame.DataFrame'>\n",
            "RangeIndex: 891 entries, 0 to 890\n",
            "Data columns (total 10 columns):\n",
            "Pclass        891 non-null int64\n",
            "Age           891 non-null float64\n",
            "SibSp         891 non-null int64\n",
            "Parch         891 non-null int64\n",
            "Fare          891 non-null float64\n",
            "Sex_female    891 non-null uint8\n",
            "Sex_male      891 non-null uint8\n",
            "Embarked_C    891 non-null uint8\n",
            "Embarked_Q    891 non-null uint8\n",
            "Embarked_S    891 non-null uint8\n",
            "dtypes: float64(2), int64(3), uint8(5)\n",
            "memory usage: 39.3 KB\n"
          ]
        }
      ]
    },
    {
      "cell_type": "code",
      "source": [
        "X_train, X_test, y_train, y_test = train_test_split(X, y, test_size = 0.3, random_state= 42)"
      ],
      "metadata": {
        "id": "awP2mDlvtVA5"
      },
      "execution_count": 10,
      "outputs": []
    },
    {
      "cell_type": "code",
      "source": [
        "from sklearn.linear_model import LogisticRegression\n",
        "\n",
        "logisticmodel = LogisticRegression()\n",
        "logisticmodel.fit(X_train, y_train)"
      ],
      "metadata": {
        "colab": {
          "base_uri": "https://localhost:8080/"
        },
        "id": "nvK3gHiKxGYI",
        "outputId": "3e3f99d9-f550-4ed4-def4-8bbb392ba949"
      },
      "execution_count": 11,
      "outputs": [
        {
          "output_type": "stream",
          "name": "stderr",
          "text": [
            "/usr/local/lib/python3.7/dist-packages/sklearn/linear_model/_logistic.py:818: ConvergenceWarning: lbfgs failed to converge (status=1):\n",
            "STOP: TOTAL NO. of ITERATIONS REACHED LIMIT.\n",
            "\n",
            "Increase the number of iterations (max_iter) or scale the data as shown in:\n",
            "    https://scikit-learn.org/stable/modules/preprocessing.html\n",
            "Please also refer to the documentation for alternative solver options:\n",
            "    https://scikit-learn.org/stable/modules/linear_model.html#logistic-regression\n",
            "  extra_warning_msg=_LOGISTIC_SOLVER_CONVERGENCE_MSG,\n"
          ]
        },
        {
          "output_type": "execute_result",
          "data": {
            "text/plain": [
              "LogisticRegression()"
            ]
          },
          "metadata": {},
          "execution_count": 11
        }
      ]
    },
    {
      "cell_type": "code",
      "source": [
        "logistic_prediction = logisticmodel.predict(X_test)"
      ],
      "metadata": {
        "id": "C-OW1jTluUzP"
      },
      "execution_count": 12,
      "outputs": []
    },
    {
      "cell_type": "code",
      "source": [
        "metrics.accuracy_score(y_test, logistic_prediction)"
      ],
      "metadata": {
        "colab": {
          "base_uri": "https://localhost:8080/"
        },
        "id": "ypHlD3wwrqbF",
        "outputId": "e6e7b6e4-1f67-4653-c9d7-6fff79d68445"
      },
      "execution_count": 13,
      "outputs": [
        {
          "output_type": "execute_result",
          "data": {
            "text/plain": [
              "0.8097014925373134"
            ]
          },
          "metadata": {},
          "execution_count": 13
        }
      ]
    },
    {
      "cell_type": "code",
      "source": [
        "def ConfusionMatrix (ytest, ypred, label = ['Negative', 'Positive']):\n",
        "  import matplotlib.pyplot as plt\n",
        "  from sklearn.metrics import confusion_matrix\n",
        "  import seaborn as sns\n",
        "  cm = confusion_matrix(ytest, ypred)\n",
        "  plt.figure(figsize=(7, 5))\n",
        "  sns.heatmap(cm, annot = True, cbar = False, fmt = 'd', cmap = 'winter')\n",
        "  plt.xlabel('Predicted', fontsize = 13)\n",
        "  plt.xticks ( [0.5, 1.5], label)\n",
        "  plt.yticks ( [0.5, 1.5], label)\n",
        "  plt.ylabel('Truth', fontsize = 13)\n",
        "  plt.title('A confusion matrix');"
      ],
      "metadata": {
        "id": "8g0NQF-RwvMO"
      },
      "execution_count": 16,
      "outputs": []
    },
    {
      "cell_type": "code",
      "source": [
        "ConfusionMatrix(y_test, logistic_prediction, label= [\"not-Survived\", \"Survived\"])"
      ],
      "metadata": {
        "id": "fMoiPGBBwu_Z",
        "outputId": "2bc19739-9c92-4686-cd13-443755eb1d01",
        "colab": {
          "base_uri": "https://localhost:8080/",
          "height": 353
        }
      },
      "execution_count": 18,
      "outputs": [
        {
          "output_type": "display_data",
          "data": {
            "text/plain": [
              "<Figure size 504x360 with 1 Axes>"
            ],
            "image/png": "[encoded data removed]"
          },
          "metadata": {
            "needs_background": "light"
          }
        }
      ]
    },
    {
      "cell_type": "code",
      "source": [
        "metrics.accuracy_score(y_test, logistic_prediction)"
      ],
      "metadata": {
        "colab": {
          "base_uri": "https://localhost:8080/"
        },
        "id": "-3k5KzImwrBz",
        "outputId": "5bd91fda-59bb-4735-815f-234f5d829c62"
      },
      "execution_count": 19,
      "outputs": [
        {
          "output_type": "execute_result",
          "data": {
            "text/plain": [
              "0.8097014925373134"
            ]
          },
          "metadata": {},
          "execution_count": 19
        }
      ]
    },
    {
      "cell_type": "code",
      "source": [
        "print(metrics.classification_report(y_test, logistic_prediction))"
      ],
      "metadata": {
        "id": "BieSP4Umwqqc",
        "outputId": "234897f8-aaf3-4b64-8ed4-6a58eabdae30",
        "colab": {
          "base_uri": "https://localhost:8080/"
        }
      },
      "execution_count": 20,
      "outputs": [
        {
          "output_type": "stream",
          "name": "stdout",
          "text": [
            "              precision    recall  f1-score   support\n",
            "\n",
            "           0       0.82      0.87      0.84       157\n",
            "           1       0.80      0.72      0.76       111\n",
            "\n",
            "    accuracy                           0.81       268\n",
            "   macro avg       0.81      0.80      0.80       268\n",
            "weighted avg       0.81      0.81      0.81       268\n",
            "\n"
          ]
        }
      ]
    },
    {
      "cell_type": "code",
      "source": [
        "from sklearn.metrics import f1_score\n"
      ],
      "metadata": {
        "id": "g88TXupk0JKh"
      },
      "execution_count": 21,
      "outputs": []
    },
    {
      "cell_type": "code",
      "source": [
        "print(f1_score(y_test,logistic_prediction))"
      ],
      "metadata": {
        "id": "A20c-Dbz0c5L",
        "outputId": "0581cfdb-375e-44c0-86ab-6a91619f2131",
        "colab": {
          "base_uri": "https://localhost:8080/"
        }
      },
      "execution_count": 22,
      "outputs": [
        {
          "output_type": "stream",
          "name": "stdout",
          "text": [
            "0.7582938388625592\n"
          ]
        }
      ]
    },
    {
      "cell_type": "code",
      "source": [
        "from sklearn.ensemble import RandomForestClassifier\n",
        "randomforestmodel = RandomForestClassifier()\n",
        "randomforestmodel.fit(X_train, y_train)"
      ],
      "metadata": {
        "colab": {
          "base_uri": "https://localhost:8080/"
        },
        "id": "SRzfCgi4I43I",
        "outputId": "3220286c-cc3e-4a73-eda2-af32f95ac567"
      },
      "execution_count": 23,
      "outputs": [
        {
          "output_type": "execute_result",
          "data": {
            "text/plain": [
              "RandomForestClassifier()"
            ]
          },
          "metadata": {},
          "execution_count": 23
        }
      ]
    },
    {
      "cell_type": "code",
      "source": [
        "RandomForestClassifier()"
      ],
      "metadata": {
        "id": "bPcjBDJVI4qH",
        "colab": {
          "base_uri": "https://localhost:8080/"
        },
        "outputId": "074ee321-a36a-4002-ab3e-013417575a53"
      },
      "execution_count": 24,
      "outputs": [
        {
          "output_type": "execute_result",
          "data": {
            "text/plain": [
              "RandomForestClassifier()"
            ]
          },
          "metadata": {},
          "execution_count": 24
        }
      ]
    },
    {
      "cell_type": "code",
      "source": [
        "rf_prediction = randomforestmodel.predict(X_test)"
      ],
      "metadata": {
        "id": "j15jxIS_I4Z3"
      },
      "execution_count": 25,
      "outputs": []
    },
    {
      "cell_type": "code",
      "source": [
        "metrics.accuracy_score(y_test, rf_prediction)"
      ],
      "metadata": {
        "colab": {
          "base_uri": "https://localhost:8080/"
        },
        "id": "2PYDRT04yX1R",
        "outputId": "1beba406-66f9-4449-94c4-83c32842a2ec"
      },
      "execution_count": 26,
      "outputs": [
        {
          "output_type": "execute_result",
          "data": {
            "text/plain": [
              "0.7947761194029851"
            ]
          },
          "metadata": {},
          "execution_count": 26
        }
      ]
    },
    {
      "cell_type": "code",
      "source": [
        "ConfusionMatrix(y_test, rf_prediction, label= [\"not-survived\", \"Survived\"])"
      ],
      "metadata": {
        "colab": {
          "base_uri": "https://localhost:8080/",
          "height": 353
        },
        "id": "bAPmz5FMyXoC",
        "outputId": "aa2386c5-b5ed-4c03-8694-7da01e5b7734"
      },
      "execution_count": 27,
      "outputs": [
        {
          "output_type": "display_data",
          "data": {
            "text/plain": [
              "<Figure size 504x360 with 1 Axes>"
            ],
            "image/png": "[encoded data removed]"
          },
          "metadata": {
            "needs_background": "light"
          }
        }
      ]
    },
    {
      "cell_type": "code",
      "source": [
        "metrics.accuracy_score(y_test, rf_prediction)"
      ],
      "metadata": {
        "id": "LfqBkBem_8OW",
        "colab": {
          "base_uri": "https://localhost:8080/"
        },
        "outputId": "80526dbc-b6b9-4773-98b6-83a9eb47c863"
      },
      "execution_count": 28,
      "outputs": [
        {
          "output_type": "execute_result",
          "data": {
            "text/plain": [
              "0.7947761194029851"
            ]
          },
          "metadata": {},
          "execution_count": 28
        }
      ]
    },
    {
      "cell_type": "code",
      "source": [
        "print(metrics.classification_report(y_test, rf_prediction))"
      ],
      "metadata": {
        "colab": {
          "base_uri": "https://localhost:8080/"
        },
        "id": "L8iLIAZuy-J2",
        "outputId": "2815fd9d-9c3c-4880-ad2b-38fc646b7b71"
      },
      "execution_count": 29,
      "outputs": [
        {
          "output_type": "stream",
          "name": "stdout",
          "text": [
            "              precision    recall  f1-score   support\n",
            "\n",
            "           0       0.81      0.85      0.83       157\n",
            "           1       0.77      0.71      0.74       111\n",
            "\n",
            "    accuracy                           0.79       268\n",
            "   macro avg       0.79      0.78      0.79       268\n",
            "weighted avg       0.79      0.79      0.79       268\n",
            "\n"
          ]
        }
      ]
    },
    {
      "cell_type": "markdown",
      "source": [
        "# Can we make this model better by tuning Hyper Parameters?"
      ],
      "metadata": {
        "id": "YQMFitiKzfTt"
      }
    },
    {
      "cell_type": "code",
      "source": [
        "from sklearn.ensemble import RandomForestClassifier\n",
        "randomforestmodel = RandomForestClassifier(n_estimators= 15)\n",
        "randomforestmodel.fit(X_train, y_train)"
      ],
      "metadata": {
        "id": "QXgyXcsYI2mH",
        "colab": {
          "base_uri": "https://localhost:8080/"
        },
        "outputId": "242a0f98-75d4-49bd-87f0-7902618382fc"
      },
      "execution_count": 30,
      "outputs": [
        {
          "output_type": "execute_result",
          "data": {
            "text/plain": [
              "RandomForestClassifier(n_estimators=15)"
            ]
          },
          "metadata": {},
          "execution_count": 30
        }
      ]
    },
    {
      "cell_type": "code",
      "source": [
        "rf_prediction = randomforestmodel.predict(X_test)"
      ],
      "metadata": {
        "id": "2nS2RNXJz1uN"
      },
      "execution_count": 31,
      "outputs": []
    },
    {
      "cell_type": "code",
      "source": [
        "metrics.accuracy_score(y_test, rf_prediction)"
      ],
      "metadata": {
        "colab": {
          "base_uri": "https://localhost:8080/"
        },
        "id": "Hzox9CK7z1pP",
        "outputId": "ca004502-93c7-4314-f903-2d35d983d5a3"
      },
      "execution_count": 32,
      "outputs": [
        {
          "output_type": "execute_result",
          "data": {
            "text/plain": [
              "0.7723880597014925"
            ]
          },
          "metadata": {},
          "execution_count": 32
        }
      ]
    },
    {
      "cell_type": "code",
      "source": [
        "ConfusionMatrix(y_test, rf_prediction, label= [\"not-purchaed\", \"purchased\"])"
      ],
      "metadata": {
        "colab": {
          "base_uri": "https://localhost:8080/",
          "height": 353
        },
        "id": "PhNKAGmDz1ij",
        "outputId": "7518b620-f880-46b0-9871-da437313ef29"
      },
      "execution_count": 33,
      "outputs": [
        {
          "output_type": "display_data",
          "data": {
            "text/plain": [
              "<Figure size 504x360 with 1 Axes>"
            ],
            "image/png": "[encoded data removed]"
          },
          "metadata": {
            "needs_background": "light"
          }
        }
      ]
    },
    {
      "cell_type": "code",
      "source": [
        "metrics.accuracy_score(y_test, rf_prediction)\n"
      ],
      "metadata": {
        "colab": {
          "base_uri": "https://localhost:8080/"
        },
        "id": "zZ9pyq9F0SOK",
        "outputId": "e310cb97-659b-4ce8-aed8-d4a07f612c48"
      },
      "execution_count": 34,
      "outputs": [
        {
          "output_type": "execute_result",
          "data": {
            "text/plain": [
              "0.7723880597014925"
            ]
          },
          "metadata": {},
          "execution_count": 34
        }
      ]
    },
    {
      "cell_type": "code",
      "source": [
        "from sklearn.metrics import f1_score\n",
        "print(f1_score(y_test, rf_prediction))"
      ],
      "metadata": {
        "colab": {
          "base_uri": "https://localhost:8080/"
        },
        "id": "CB_lqbd20SDJ",
        "outputId": "e8b65d48-730e-4749-e047-932682212f74"
      },
      "execution_count": 35,
      "outputs": [
        {
          "output_type": "stream",
          "name": "stdout",
          "text": [
            "0.7188940092165897\n"
          ]
        }
      ]
    },
    {
      "cell_type": "code",
      "source": [
        "print(metrics.classification_report(y_test, rf_prediction))"
      ],
      "metadata": {
        "colab": {
          "base_uri": "https://localhost:8080/"
        },
        "id": "9w21Ycn-1Alj",
        "outputId": "ae5b1246-1aaf-4113-b7bf-acee95fa1993"
      },
      "execution_count": 36,
      "outputs": [
        {
          "output_type": "stream",
          "name": "stdout",
          "text": [
            "              precision    recall  f1-score   support\n",
            "\n",
            "           0       0.80      0.82      0.81       157\n",
            "           1       0.74      0.70      0.72       111\n",
            "\n",
            "    accuracy                           0.77       268\n",
            "   macro avg       0.77      0.76      0.76       268\n",
            "weighted avg       0.77      0.77      0.77       268\n",
            "\n"
          ]
        }
      ]
    },
    {
      "cell_type": "code",
      "source": [
        "print('Parameters currently in use:\\n')\n",
        "mod_details = randomforestmodel.get_params()\n",
        "for i in mod_details:\n",
        "  print(i,\" :\", mod_details[i])"
      ],
      "metadata": {
        "id": "lh1rMOYx1AdA",
        "colab": {
          "base_uri": "https://localhost:8080/"
        },
        "outputId": "dc801b0e-4520-4b65-ad1b-91a4d8899e04"
      },
      "execution_count": 37,
      "outputs": [
        {
          "output_type": "stream",
          "name": "stdout",
          "text": [
            "Parameters currently in use:\n",
            "\n",
            "bootstrap  : True\n",
            "ccp_alpha  : 0.0\n",
            "class_weight  : None\n",
            "criterion  : gini\n",
            "max_depth  : None\n",
            "max_features  : auto\n",
            "max_leaf_nodes  : None\n",
            "max_samples  : None\n",
            "min_impurity_decrease  : 0.0\n",
            "min_samples_leaf  : 1\n",
            "min_samples_split  : 2\n",
            "min_weight_fraction_leaf  : 0.0\n",
            "n_estimators  : 15\n",
            "n_jobs  : None\n",
            "oob_score  : False\n",
            "random_state  : None\n",
            "verbose  : 0\n",
            "warm_start  : False\n"
          ]
        }
      ]
    },
    {
      "cell_type": "code",
      "source": [
        "from sklearn.model_selection import RandomizedSearchCV\n",
        "import numpy as np\n",
        "# Number of trees in random forest\n",
        "n_estimators = [int(x) for x in np.linspace(start = 20, stop = 250, num = 10)]\n",
        "# Number of features to consider at every split\n",
        "max_features = ['auto', 'sqrt']\n",
        "# Maximum number of levels in tree\n",
        "max_depth = [int(x) for x in np.linspace(5, 50, num = 10)]\n",
        "max_depth.append(None)\n",
        "# Minimum number of samples required to split a node\n",
        "min_samples_split = [2, 5, 10]\n",
        "# Minimum number of samples required at each leaf node\n",
        "min_samples_leaf = [1, 2, 4]\n",
        "# Method of selecting samples for training each tree\n",
        "bootstrap = [True, False]\n",
        "# Create the random grid\n",
        "random_grid = {'n_estimators': n_estimators,\n",
        "               'max_features': max_features,\n",
        "               'max_depth': max_depth,\n",
        "               'min_samples_split': min_samples_split,\n",
        "               'min_samples_leaf': min_samples_leaf,\n",
        "               'bootstrap': bootstrap}\n",
        "\n",
        "for i in random_grid:\n",
        "  print(i,\" :\", random_grid[i])"
      ],
      "metadata": {
        "id": "o0v2Yp9N1ATn",
        "colab": {
          "base_uri": "https://localhost:8080/"
        },
        "outputId": "fb3d1385-5a4e-4d13-df57-00977f6deccd"
      },
      "execution_count": 39,
      "outputs": [
        {
          "output_type": "stream",
          "name": "stdout",
          "text": [
            "n_estimators  : [20, 45, 71, 96, 122, 147, 173, 198, 224, 250]\n",
            "max_features  : ['auto', 'sqrt']\n",
            "max_depth  : [5, 10, 15, 20, 25, 30, 35, 40, 45, 50, None]\n",
            "min_samples_split  : [2, 5, 10]\n",
            "min_samples_leaf  : [1, 2, 4]\n",
            "bootstrap  : [True, False]\n"
          ]
        }
      ]
    },
    {
      "cell_type": "code",
      "source": [
        "# Use the random grid to search for best hyperparameters\n",
        "# First create the base model to tune\n",
        "rf = RandomForestClassifier()\n",
        "# Random search of parameters, using 3 fold cross validation, \n",
        "# search across 100 different combinations, and use all available cores\n",
        "rf_random = RandomizedSearchCV(estimator = rf, param_distributions = random_grid, n_iter = 150, cv = 3, verbose=2, random_state=7, n_jobs = -1)\n",
        "# Fit the random search model\n",
        "rf_random.fit(X_train, y_train)"
      ],
      "metadata": {
        "colab": {
          "base_uri": "https://localhost:8080/"
        },
        "id": "u-__h5FWQR47",
        "outputId": "7db7289f-630c-4346-f9aa-8cf0080ba929"
      },
      "execution_count": 40,
      "outputs": [
        {
          "output_type": "stream",
          "name": "stdout",
          "text": [
            "Fitting 3 folds for each of 150 candidates, totalling 450 fits\n"
          ]
        },
        {
          "output_type": "execute_result",
          "data": {
            "text/plain": [
              "RandomizedSearchCV(cv=3, estimator=RandomForestClassifier(), n_iter=150,\n",
              "                   n_jobs=-1,\n",
              "                   param_distributions={'bootstrap': [True, False],\n",
              "                                        'max_depth': [5, 10, 15, 20, 25, 30, 35,\n",
              "                                                      40, 45, 50, None],\n",
              "                                        'max_features': ['auto', 'sqrt'],\n",
              "                                        'min_samples_leaf': [1, 2, 4],\n",
              "                                        'min_samples_split': [2, 5, 10],\n",
              "                                        'n_estimators': [20, 45, 71, 96, 122,\n",
              "                                                         147, 173, 198, 224,\n",
              "                                                         250]},\n",
              "                   random_state=7, verbose=2)"
            ]
          },
          "metadata": {},
          "execution_count": 40
        }
      ]
    },
    {
      "cell_type": "code",
      "source": [
        "rf_random.best_params_"
      ],
      "metadata": {
        "colab": {
          "base_uri": "https://localhost:8080/"
        },
        "id": "OU2GILnFQRtt",
        "outputId": "91ba5fcc-6d94-430f-f80b-8e656010474d"
      },
      "execution_count": 41,
      "outputs": [
        {
          "output_type": "execute_result",
          "data": {
            "text/plain": [
              "{'bootstrap': False,\n",
              " 'max_depth': 40,\n",
              " 'max_features': 'sqrt',\n",
              " 'min_samples_leaf': 1,\n",
              " 'min_samples_split': 10,\n",
              " 'n_estimators': 122}"
            ]
          },
          "metadata": {},
          "execution_count": 41
        }
      ]
    },
    {
      "cell_type": "code",
      "source": [
        "from sklearn.metrics import accuracy_score\n",
        "\n",
        "base_model = RandomForestClassifier(random_state= 7)\n",
        "base_model.fit(X_train, y_train)\n",
        "bm_predictions = base_model.predict(X_test)\n",
        "base_accuracy = metrics.accuracy_score(y_test, bm_predictions)\n",
        "print(\"Base model Accuracy:\", base_accuracy)\n",
        "\n",
        "best_random = rf_random.best_estimator_\n",
        "best_random.fit(X_train, y_train)\n",
        "best_predictions = best_random.predict(X_test)\n",
        "best_accuracy = metrics.accuracy_score(y_test, best_predictions)\n",
        "print(\"Best model Accuracy:\", base_accuracy)\n",
        "\n",
        "print('Improvement of {:0.2f}%.'.format( 100 * (best_accuracy - base_accuracy) / base_accuracy))"
      ],
      "metadata": {
        "id": "KOkpuUNwyXZm",
        "colab": {
          "base_uri": "https://localhost:8080/"
        },
        "outputId": "1f6257ee-1208-492c-ee7b-587783b2c94d"
      },
      "execution_count": 42,
      "outputs": [
        {
          "output_type": "stream",
          "name": "stdout",
          "text": [
            "Base model Accuracy: 0.7910447761194029\n",
            "Best model Accuracy: 0.7910447761194029\n",
            "Improvement of -0.94%.\n"
          ]
        }
      ]
    }
  ]
}